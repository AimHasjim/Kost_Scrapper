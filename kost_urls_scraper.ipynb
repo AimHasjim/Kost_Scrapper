{
 "cells": [
  {
   "cell_type": "code",
   "execution_count": null,
   "id": "f85f0cff-1a30-4da2-a88f-f8b76e74761c",
   "metadata": {
    "tags": []
   },
   "outputs": [],
   "source": [
    "from selenium import webdriver\n",
    "from selenium.webdriver.common.by import By\n",
    "from selenium.webdriver.common.keys import Keys\n",
    "from selenium.webdriver.support.ui import WebDriverWait\n",
    "from selenium.webdriver.support import expected_conditions as EC\n",
    "from selenium.webdriver import ActionChains\n",
    "from selenium.webdriver.common.actions.wheel_input import ScrollOrigin\n",
    "from selenium.common.exceptions import *\n",
    "import json\n",
    "import numpy as np\n",
    "import pandas as pd\n",
    "import time\n",
    "import random"
   ]
  },
  {
   "cell_type": "code",
   "execution_count": 2,
   "id": "76dfb9c4-efa1-4645-a98a-4f3ef2e5af38",
   "metadata": {
    "tags": []
   },
   "outputs": [],
   "source": [
    "import pickle"
   ]
  },
  {
   "cell_type": "code",
   "execution_count": 2,
   "id": "bc5e8016-361d-46f3-9a16-54552e199a3d",
   "metadata": {
    "tags": []
   },
   "outputs": [],
   "source": [
    "with open(\"urls.json\",\"r\") as url_:\n",
    "    urls = json.load(url_)"
   ]
  },
  {
   "cell_type": "code",
   "execution_count": 15,
   "id": "8d036e4c-94d2-4bf4-b34a-648e379b4dc7",
   "metadata": {
    "tags": []
   },
   "outputs": [],
   "source": [
    "driver.quit()"
   ]
  },
  {
   "cell_type": "code",
   "execution_count": 44,
   "id": "404b7af3-a781-4167-925e-63d98a3ed362",
   "metadata": {
    "tags": []
   },
   "outputs": [
    {
     "name": "stderr",
     "output_type": "stream",
     "text": [
      "C:\\Users\\Dell\\AppData\\Local\\Temp\\ipykernel_4760\\383384857.py:2: DeprecationWarning: executable_path has been deprecated, please pass in a Service object\n",
      "  driver = webdriver.Chrome(path)\n"
     ]
    }
   ],
   "source": [
    "path = \"C:\\Program Files (x86)\\chromedriver.exe\"\n",
    "driver = webdriver.Chrome(path)\n",
    "wait = WebDriverWait(driver,4)"
   ]
  },
  {
   "cell_type": "code",
   "execution_count": 138,
   "id": "351de78e-1cb1-40e8-a839-9cc863675072",
   "metadata": {
    "tags": []
   },
   "outputs": [],
   "source": [
    "wait = WebDriverWait(driver,4)"
   ]
  },
  {
   "cell_type": "code",
   "execution_count": 3,
   "id": "38d9a039-d71b-4153-b565-c586a09be584",
   "metadata": {
    "tags": []
   },
   "outputs": [],
   "source": [
    "def scroll_down_add(driver):\n",
    "    while True:\n",
    "        driver.execute_script(\"window.scrollTo(0, document.body.scrollHeight);\")\n",
    "        try:\n",
    "            wait.until(EC.presence_of_element_located((By.CLASS_NAME, \"list__content-load-action\")))\n",
    "        except (TimeoutError, TimeoutException):\n",
    "            print(\"Job Done\")\n",
    "            links = driver.find_elements(By.CLASS_NAME, \"col-12\")\n",
    "            return links\n",
    "        else:\n",
    "            lanjut = driver.find_element(By.CLASS_NAME,\"list__content-load-action\")\n",
    "            lanjut.click()"
   ]
  },
  {
   "cell_type": "code",
   "execution_count": 139,
   "id": "41300e4a-ae07-49f5-85d1-6a5d4a61f6af",
   "metadata": {
    "tags": []
   },
   "outputs": [],
   "source": [
    "def scroll_down_add_2(driver):\n",
    "    driver.execute_script(\"window.scrollTo(0, document.body.scrollHeight/2);\")\n",
    "    wait2.until(EC.presence_of_element_located((By.CLASS_NAME, \"swiper-wrapper\")))\n",
    "    return driver.find_element(By.TAG_NAME,\"swiper-wrapper\")"
   ]
  },
  {
   "cell_type": "code",
   "execution_count": 4,
   "id": "1a8ead38-e134-4ebc-9494-d045ea0adc05",
   "metadata": {
    "tags": []
   },
   "outputs": [],
   "source": [
    "def switch_tabs(driver, main_window):\n",
    "    wait.until(EC.number_of_windows_to_be(2))\n",
    "    for window_handle in driver.window_handles:\n",
    "        if window_handle != main_window:\n",
    "            driver.switch_to.window(window_handle)\n",
    "            break"
   ]
  },
  {
   "cell_type": "code",
   "execution_count": 45,
   "id": "73ca2d45-fa63-4a15-8e26-ad355e47ea02",
   "metadata": {
    "tags": []
   },
   "outputs": [],
   "source": [
    "driver.get(urls[120])"
   ]
  },
  {
   "cell_type": "code",
   "execution_count": 60,
   "id": "db363882-b26e-4ba2-beb0-50fa18aad9ff",
   "metadata": {
    "tags": []
   },
   "outputs": [
    {
     "data": {
      "text/plain": [
       "0.8830409356725146"
      ]
     },
     "execution_count": 60,
     "metadata": {},
     "output_type": "execute_result"
    }
   ],
   "source": [
    "151/171"
   ]
  },
  {
   "cell_type": "code",
   "execution_count": 144,
   "id": "dca24019-9055-4d05-b23b-345908e865c1",
   "metadata": {
    "tags": []
   },
   "outputs": [
    {
     "data": {
      "text/plain": [
       "4411"
      ]
     },
     "execution_count": 144,
     "metadata": {},
     "output_type": "execute_result"
    }
   ],
   "source": [
    "len(kost_urls)"
   ]
  },
  {
   "cell_type": "code",
   "execution_count": 97,
   "id": "afc74e5a-87c4-4f39-afbf-017d7a0d0d80",
   "metadata": {
    "tags": []
   },
   "outputs": [],
   "source": [
    "with open(\"kost_urls[1].json\", \"w\",encoding='utf-8') as j:\n",
    "    json.dump(kost_urls,j,ensure_ascii=False, indent=4)"
   ]
  },
  {
   "cell_type": "code",
   "execution_count": 9,
   "id": "949722f7-2c31-4223-8de2-d3b20e058649",
   "metadata": {
    "tags": []
   },
   "outputs": [],
   "source": [
    "with open(\"kost_urls_8.json\",\"r\") as url_:\n",
    "    kost_urls = json.load(url_)"
   ]
  },
  {
   "cell_type": "code",
   "execution_count": 118,
   "id": "3545d9f0-74bf-4d70-90da-4b123e7fc7de",
   "metadata": {
    "tags": []
   },
   "outputs": [],
   "source": [
    "driver.switch_to.window(main_window)"
   ]
  },
  {
   "cell_type": "code",
   "execution_count": 132,
   "id": "a2be9b90-05d6-4605-bc01-5fd2b457ac53",
   "metadata": {
    "tags": []
   },
   "outputs": [],
   "source": []
  },
  {
   "cell_type": "code",
   "execution_count": 119,
   "id": "f246236f-2642-46eb-baac-5a025218434c",
   "metadata": {
    "tags": []
   },
   "outputs": [
    {
     "ename": "KeyboardInterrupt",
     "evalue": "",
     "output_type": "error",
     "traceback": [
      "\u001b[1;31m---------------------------------------------------------------------------\u001b[0m",
      "\u001b[1;31mKeyboardInterrupt\u001b[0m                         Traceback (most recent call last)",
      "Cell \u001b[1;32mIn[119], line 5\u001b[0m\n\u001b[0;32m      3\u001b[0m wait\u001b[38;5;241m.\u001b[39muntil(EC\u001b[38;5;241m.\u001b[39mpresence_of_element_located((By\u001b[38;5;241m.\u001b[39mTAG_NAME, \u001b[38;5;124m\"\u001b[39m\u001b[38;5;124mbody\u001b[39m\u001b[38;5;124m\"\u001b[39m)))\n\u001b[0;32m      4\u001b[0m main_window \u001b[38;5;241m=\u001b[39m driver\u001b[38;5;241m.\u001b[39mcurrent_window_handle\n\u001b[1;32m----> 5\u001b[0m links \u001b[38;5;241m=\u001b[39m \u001b[43mscroll_down_add\u001b[49m\u001b[43m(\u001b[49m\u001b[43mdriver\u001b[49m\u001b[43m)\u001b[49m\n\u001b[0;32m      6\u001b[0m \u001b[38;5;28;01mfor\u001b[39;00m link \u001b[38;5;129;01min\u001b[39;00m links:\n\u001b[0;32m      7\u001b[0m     \u001b[38;5;28;01mif\u001b[39;00m driver\u001b[38;5;241m.\u001b[39mwindow_handles \u001b[38;5;241m!=\u001b[39m \u001b[38;5;241m1\u001b[39m:\n",
      "Cell \u001b[1;32mIn[3], line 5\u001b[0m, in \u001b[0;36mscroll_down_add\u001b[1;34m(driver)\u001b[0m\n\u001b[0;32m      3\u001b[0m driver\u001b[38;5;241m.\u001b[39mexecute_script(\u001b[38;5;124m\"\u001b[39m\u001b[38;5;124mwindow.scrollTo(0, document.body.scrollHeight);\u001b[39m\u001b[38;5;124m\"\u001b[39m)\n\u001b[0;32m      4\u001b[0m \u001b[38;5;28;01mtry\u001b[39;00m:\n\u001b[1;32m----> 5\u001b[0m     \u001b[43mwait\u001b[49m\u001b[38;5;241;43m.\u001b[39;49m\u001b[43muntil\u001b[49m\u001b[43m(\u001b[49m\u001b[43mEC\u001b[49m\u001b[38;5;241;43m.\u001b[39;49m\u001b[43mpresence_of_element_located\u001b[49m\u001b[43m(\u001b[49m\u001b[43m(\u001b[49m\u001b[43mBy\u001b[49m\u001b[38;5;241;43m.\u001b[39;49m\u001b[43mCLASS_NAME\u001b[49m\u001b[43m,\u001b[49m\u001b[43m \u001b[49m\u001b[38;5;124;43m\"\u001b[39;49m\u001b[38;5;124;43mlist__content-load-action\u001b[39;49m\u001b[38;5;124;43m\"\u001b[39;49m\u001b[43m)\u001b[49m\u001b[43m)\u001b[49m\u001b[43m)\u001b[49m\n\u001b[0;32m      6\u001b[0m \u001b[38;5;28;01mexcept\u001b[39;00m (\u001b[38;5;167;01mTimeoutError\u001b[39;00m, TimeoutException):\n\u001b[0;32m      7\u001b[0m     \u001b[38;5;28mprint\u001b[39m(\u001b[38;5;124m\"\u001b[39m\u001b[38;5;124mJob Done\u001b[39m\u001b[38;5;124m\"\u001b[39m)\n",
      "File \u001b[1;32m~\\AppData\\Local\\Programs\\Python\\Python310\\lib\\site-packages\\selenium\\webdriver\\support\\wait.py:92\u001b[0m, in \u001b[0;36mWebDriverWait.until\u001b[1;34m(self, method, message)\u001b[0m\n\u001b[0;32m     90\u001b[0m     screen \u001b[38;5;241m=\u001b[39m \u001b[38;5;28mgetattr\u001b[39m(exc, \u001b[38;5;124m\"\u001b[39m\u001b[38;5;124mscreen\u001b[39m\u001b[38;5;124m\"\u001b[39m, \u001b[38;5;28;01mNone\u001b[39;00m)\n\u001b[0;32m     91\u001b[0m     stacktrace \u001b[38;5;241m=\u001b[39m \u001b[38;5;28mgetattr\u001b[39m(exc, \u001b[38;5;124m\"\u001b[39m\u001b[38;5;124mstacktrace\u001b[39m\u001b[38;5;124m\"\u001b[39m, \u001b[38;5;28;01mNone\u001b[39;00m)\n\u001b[1;32m---> 92\u001b[0m \u001b[43mtime\u001b[49m\u001b[38;5;241;43m.\u001b[39;49m\u001b[43msleep\u001b[49m\u001b[43m(\u001b[49m\u001b[38;5;28;43mself\u001b[39;49m\u001b[38;5;241;43m.\u001b[39;49m\u001b[43m_poll\u001b[49m\u001b[43m)\u001b[49m\n\u001b[0;32m     93\u001b[0m \u001b[38;5;28;01mif\u001b[39;00m time\u001b[38;5;241m.\u001b[39mmonotonic() \u001b[38;5;241m>\u001b[39m end_time:\n\u001b[0;32m     94\u001b[0m     \u001b[38;5;28;01mbreak\u001b[39;00m\n",
      "\u001b[1;31mKeyboardInterrupt\u001b[0m: "
     ]
    }
   ],
   "source": [
    "for _ in urls[163:]:\n",
    "    driver.get(_)\n",
    "    wait.until(EC.presence_of_element_located((By.TAG_NAME, \"body\")))\n",
    "    main_window = driver.current_window_handle\n",
    "    links = scroll_down_add(driver)\n",
    "    for link in links:\n",
    "        if driver.window_handles != 1:\n",
    "            for window_handle in driver.window_handles:\n",
    "                if window_handle != main_window:\n",
    "                    driver.switch_to.window(window_handle)\n",
    "                    driver.close()\n",
    "                    driver.switch_to.window(main_window)\n",
    "        ActionChains(driver)\\\n",
    "        .move_to_element(link)\\\n",
    "        .click(link)\\\n",
    "        .perform()\n",
    "        switch_tabs(driver, main_window)\n",
    "        if driver.current_url not in kost_urls: kost_urls.append(driver.current_url)\n",
    "        driver.close()\n",
    "        driver.switch_to.window(main_window)\n",
    "    n += 1"
   ]
  }
 ],
 "metadata": {
  "kernelspec": {
   "display_name": "Python 3 (ipykernel)",
   "language": "python",
   "name": "python3"
  },
  "language_info": {
   "codemirror_mode": {
    "name": "ipython",
    "version": 3
   },
   "file_extension": ".py",
   "mimetype": "text/x-python",
   "name": "python",
   "nbconvert_exporter": "python",
   "pygments_lexer": "ipython3",
   "version": "3.10.2"
  }
 },
 "nbformat": 4,
 "nbformat_minor": 5
}
